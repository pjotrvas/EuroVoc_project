{
 "cells": [
  {
   "cell_type": "code",
   "execution_count": 7,
   "metadata": {
    "collapsed": true
   },
   "outputs": [],
   "source": [
    "import matplotlib.pyplot as plt\n",
    "import pandas as pd"
   ]
  },
  {
   "cell_type": "code",
   "execution_count": 43,
   "outputs": [],
   "source": [
    "log_to_load = 'uralic'"
   ],
   "metadata": {
    "collapsed": false,
    "pycharm": {
     "name": "#%%\n"
    }
   }
  },
  {
   "cell_type": "code",
   "execution_count": 44,
   "outputs": [],
   "source": [
    "log_to_load = log_to_load.strip().lower()\n",
    "df_training = pd.read_csv(f'./csv_logs/log_{log_to_load}_train.csv')\n",
    "df_eval = pd.read_csv(f'./csv_logs/log_{log_to_load}_eval.csv')"
   ],
   "metadata": {
    "collapsed": false,
    "pycharm": {
     "name": "#%%\n"
    }
   }
  },
  {
   "cell_type": "code",
   "execution_count": 45,
   "outputs": [
    {
     "data": {
      "text/plain": "     Unnamed: 0    loss  learning_rate  epoch\n0             0  0.6843   1.812251e-07   0.01\n1             1  0.6719   3.624502e-07   0.02\n2             2  0.6239   5.436752e-07   0.03\n3             3  0.5680   7.249003e-07   0.04\n4             4  0.5113   9.061254e-07   0.05\n..          ...     ...            ...    ...\n546         546  0.0932   1.956868e-07   4.96\n547         547  0.0924   1.757521e-07   4.97\n548         548  0.0929   1.558173e-07   4.97\n549         549  0.0917   1.358826e-07   4.98\n550         550  0.0981   1.159478e-07   4.99\n\n[551 rows x 4 columns]",
      "text/html": "<div>\n<style scoped>\n    .dataframe tbody tr th:only-of-type {\n        vertical-align: middle;\n    }\n\n    .dataframe tbody tr th {\n        vertical-align: top;\n    }\n\n    .dataframe thead th {\n        text-align: right;\n    }\n</style>\n<table border=\"1\" class=\"dataframe\">\n  <thead>\n    <tr style=\"text-align: right;\">\n      <th></th>\n      <th>Unnamed: 0</th>\n      <th>loss</th>\n      <th>learning_rate</th>\n      <th>epoch</th>\n    </tr>\n  </thead>\n  <tbody>\n    <tr>\n      <th>0</th>\n      <td>0</td>\n      <td>0.6843</td>\n      <td>1.812251e-07</td>\n      <td>0.01</td>\n    </tr>\n    <tr>\n      <th>1</th>\n      <td>1</td>\n      <td>0.6719</td>\n      <td>3.624502e-07</td>\n      <td>0.02</td>\n    </tr>\n    <tr>\n      <th>2</th>\n      <td>2</td>\n      <td>0.6239</td>\n      <td>5.436752e-07</td>\n      <td>0.03</td>\n    </tr>\n    <tr>\n      <th>3</th>\n      <td>3</td>\n      <td>0.5680</td>\n      <td>7.249003e-07</td>\n      <td>0.04</td>\n    </tr>\n    <tr>\n      <th>4</th>\n      <td>4</td>\n      <td>0.5113</td>\n      <td>9.061254e-07</td>\n      <td>0.05</td>\n    </tr>\n    <tr>\n      <th>...</th>\n      <td>...</td>\n      <td>...</td>\n      <td>...</td>\n      <td>...</td>\n    </tr>\n    <tr>\n      <th>546</th>\n      <td>546</td>\n      <td>0.0932</td>\n      <td>1.956868e-07</td>\n      <td>4.96</td>\n    </tr>\n    <tr>\n      <th>547</th>\n      <td>547</td>\n      <td>0.0924</td>\n      <td>1.757521e-07</td>\n      <td>4.97</td>\n    </tr>\n    <tr>\n      <th>548</th>\n      <td>548</td>\n      <td>0.0929</td>\n      <td>1.558173e-07</td>\n      <td>4.97</td>\n    </tr>\n    <tr>\n      <th>549</th>\n      <td>549</td>\n      <td>0.0917</td>\n      <td>1.358826e-07</td>\n      <td>4.98</td>\n    </tr>\n    <tr>\n      <th>550</th>\n      <td>550</td>\n      <td>0.0981</td>\n      <td>1.159478e-07</td>\n      <td>4.99</td>\n    </tr>\n  </tbody>\n</table>\n<p>551 rows × 4 columns</p>\n</div>"
     },
     "execution_count": 45,
     "metadata": {},
     "output_type": "execute_result"
    }
   ],
   "source": [
    "df_training"
   ],
   "metadata": {
    "collapsed": false,
    "pycharm": {
     "name": "#%%\n"
    }
   }
  },
  {
   "cell_type": "code",
   "execution_count": 46,
   "outputs": [
    {
     "data": {
      "text/plain": "   Unnamed: 0  eval_loss   eval_f1  eval_runtime  eval_samples_per_second  \\\n0           0   0.246093  0.678248      112.6135                   22.200   \n1           1   0.226431  0.727035      121.0521                   20.652   \n2           2   0.222659  0.734716       36.8037                   67.928   \n3           3   0.228160  0.732570       38.3143                   65.250   \n4           4   0.232072  0.733598       39.0659                   63.994   \n\n   eval_steps_per_second  epoch  \n0                  1.394    1.0  \n1                  1.297    2.0  \n2                  4.266    3.0  \n3                  4.098    4.0  \n4                  4.019    5.0  ",
      "text/html": "<div>\n<style scoped>\n    .dataframe tbody tr th:only-of-type {\n        vertical-align: middle;\n    }\n\n    .dataframe tbody tr th {\n        vertical-align: top;\n    }\n\n    .dataframe thead th {\n        text-align: right;\n    }\n</style>\n<table border=\"1\" class=\"dataframe\">\n  <thead>\n    <tr style=\"text-align: right;\">\n      <th></th>\n      <th>Unnamed: 0</th>\n      <th>eval_loss</th>\n      <th>eval_f1</th>\n      <th>eval_runtime</th>\n      <th>eval_samples_per_second</th>\n      <th>eval_steps_per_second</th>\n      <th>epoch</th>\n    </tr>\n  </thead>\n  <tbody>\n    <tr>\n      <th>0</th>\n      <td>0</td>\n      <td>0.246093</td>\n      <td>0.678248</td>\n      <td>112.6135</td>\n      <td>22.200</td>\n      <td>1.394</td>\n      <td>1.0</td>\n    </tr>\n    <tr>\n      <th>1</th>\n      <td>1</td>\n      <td>0.226431</td>\n      <td>0.727035</td>\n      <td>121.0521</td>\n      <td>20.652</td>\n      <td>1.297</td>\n      <td>2.0</td>\n    </tr>\n    <tr>\n      <th>2</th>\n      <td>2</td>\n      <td>0.222659</td>\n      <td>0.734716</td>\n      <td>36.8037</td>\n      <td>67.928</td>\n      <td>4.266</td>\n      <td>3.0</td>\n    </tr>\n    <tr>\n      <th>3</th>\n      <td>3</td>\n      <td>0.228160</td>\n      <td>0.732570</td>\n      <td>38.3143</td>\n      <td>65.250</td>\n      <td>4.098</td>\n      <td>4.0</td>\n    </tr>\n    <tr>\n      <th>4</th>\n      <td>4</td>\n      <td>0.232072</td>\n      <td>0.733598</td>\n      <td>39.0659</td>\n      <td>63.994</td>\n      <td>4.019</td>\n      <td>5.0</td>\n    </tr>\n  </tbody>\n</table>\n</div>"
     },
     "execution_count": 46,
     "metadata": {},
     "output_type": "execute_result"
    }
   ],
   "source": [
    "df_eval"
   ],
   "metadata": {
    "collapsed": false,
    "pycharm": {
     "name": "#%%\n"
    }
   }
  },
  {
   "cell_type": "code",
   "execution_count": 47,
   "outputs": [
    {
     "data": {
      "text/plain": "<Figure size 432x288 with 1 Axes>",
      "image/png": "[encoded data removed]"
     },
     "metadata": {
      "needs_background": "light"
     },
     "output_type": "display_data"
    }
   ],
   "source": [
    "plt.plot(df_training.epoch, df_training.loss)\n",
    "plt.plot(df_eval.epoch, df_eval.eval_loss)\n",
    "plt.show()"
   ],
   "metadata": {
    "collapsed": false,
    "pycharm": {
     "name": "#%%\n"
    }
   }
  },
  {
   "cell_type": "code",
   "execution_count": 47,
   "outputs": [],
   "source": [],
   "metadata": {
    "collapsed": false,
    "pycharm": {
     "name": "#%%\n"
    }
   }
  }
 ],
 "metadata": {
  "kernelspec": {
   "display_name": "Python 3",
   "language": "python",
   "name": "python3"
  },
  "language_info": {
   "codemirror_mode": {
    "name": "ipython",
    "version": 2
   },
   "file_extension": ".py",
   "mimetype": "text/x-python",
   "name": "python",
   "nbconvert_exporter": "python",
   "pygments_lexer": "ipython2",
   "version": "2.7.6"
  }
 },
 "nbformat": 4,
 "nbformat_minor": 0
}
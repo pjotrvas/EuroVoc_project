{
 "cells": [
  {
   "cell_type": "code",
   "execution_count": 1,
   "metadata": {
    "collapsed": true
   },
   "outputs": [],
   "source": [
    "from MultiEvalDataset import MultiEurlexDataset\n",
    "from sklearn.feature_extraction.text import TfidfVectorizer\n",
    "from sklearn.preprocessing import MultiLabelBinarizer\n",
    "from sklearn.metrics import precision_recall_fscore_support, multilabel_confusion_matrix, classification_report, accuracy_score, f1_score, precision_score, recall_score\n",
    "from sklearn.linear_model import LogisticRegression\n",
    "from sklearn.multioutput import MultiOutputClassifier\n",
    "from sklearn.svm import SVC\n",
    "import itertools as it\n",
    "import warnings\n",
    "from sklearn.exceptions import ConvergenceWarning"
   ]
  },
  {
   "cell_type": "code",
   "execution_count": 10,
   "outputs": [],
   "source": [
    "warnings.simplefilter('ignore', category=ConvergenceWarning)\n",
    "warnings.simplefilter('ignore', category=UserWarning)"
   ],
   "metadata": {
    "collapsed": false,
    "pycharm": {
     "name": "#%%\n"
    }
   }
  },
  {
   "cell_type": "code",
   "execution_count": null,
   "outputs": [],
   "source": [
    "train_dataset = MultiEurlexDataset(languages='hr')\n",
    "validation_dataset = MultiEurlexDataset(split='validation', languages='hr')\n",
    "test_dataset = MultiEurlexDataset(split='test', languages='hr')"
   ],
   "metadata": {
    "collapsed": false,
    "pycharm": {
     "name": "#%%\n",
     "is_executing": true
    }
   }
  },
  {
   "cell_type": "code",
   "execution_count": 4,
   "outputs": [],
   "source": [
    "vectorizer = TfidfVectorizer(min_df=0.01)\n",
    "mlb = MultiLabelBinarizer(classes=range(21))"
   ],
   "metadata": {
    "collapsed": false,
    "pycharm": {
     "name": "#%%\n"
    }
   }
  },
  {
   "cell_type": "code",
   "execution_count": 5,
   "outputs": [],
   "source": [
    "X_train = vectorizer.fit_transform(train_dataset.data.document)\n",
    "y_train = mlb.fit_transform(train_dataset.data.labels)"
   ],
   "metadata": {
    "collapsed": false,
    "pycharm": {
     "name": "#%%\n"
    }
   }
  },
  {
   "cell_type": "code",
   "execution_count": 6,
   "outputs": [],
   "source": [
    "X_validation = vectorizer.transform(validation_dataset.data.document)\n",
    "y_validation = mlb.transform(validation_dataset.data.labels)"
   ],
   "metadata": {
    "collapsed": false,
    "pycharm": {
     "name": "#%%\n"
    }
   }
  },
  {
   "cell_type": "code",
   "execution_count": 7,
   "outputs": [],
   "source": [
    "X_test= vectorizer.transform(test_dataset.data.document)\n",
    "y_test = mlb.transform(test_dataset.data.labels)"
   ],
   "metadata": {
    "collapsed": false,
    "pycharm": {
     "name": "#%%\n"
    }
   }
  },
  {
   "cell_type": "code",
   "execution_count": 8,
   "outputs": [],
   "source": [
    "def train_and_validate(X_train, y_train, X_validation, y_validation, model, configs):\n",
    "    best_accuracy = 0\n",
    "    best_f1 = 0\n",
    "    best_precision = 0\n",
    "    best_recall = 0\n",
    "    best_model = None\n",
    "\n",
    "    best_config = {}\n",
    "    cnt = 0\n",
    "\n",
    "    for config in configs:\n",
    "        print(cnt)\n",
    "        cnt += 1\n",
    "        clf = MultiOutputClassifier(model(**config)).fit(X_train, y_train)\n",
    "        y_pred = clf.predict(X_validation)\n",
    "\n",
    "        f1 = f1_score(y_true=y_validation, y_pred=y_pred, average='samples')\n",
    "        acc = accuracy_score(y_true=y_validation.ravel(), y_pred=y_pred.ravel())\n",
    "        prec = precision_score(y_true=y_validation, y_pred=y_pred, average='samples')\n",
    "        recall = recall_score(y_true=y_validation, y_pred=y_pred, average='samples')\n",
    "\n",
    "        if f1 > best_f1 :\n",
    "            best_f1 = f1\n",
    "            best_accuracy = acc\n",
    "            best_recall = recall\n",
    "            best_precision = prec\n",
    "            best_model = clf\n",
    "            best_config = config\n",
    "\n",
    "    print(f'Validation \\n'\n",
    "      f'f1: {best_f1} \\n'\n",
    "      f'accuracy: {best_accuracy} \\n'\n",
    "      f'recall: {best_recall} \\n'\n",
    "      f'precision: {best_precision} \\n'\n",
    "      f'best configuration: {best_config}')\n",
    "\n",
    "    return best_model, best_config"
   ],
   "metadata": {
    "collapsed": false,
    "pycharm": {
     "name": "#%%\n"
    }
   }
  },
  {
   "cell_type": "code",
   "execution_count": null,
   "outputs": [],
   "source": [
    "model = LogisticRegression\n",
    "penalties = ['none', 'l2']\n",
    "Cs = [1e-3, 1e-2, 1e-1, 1.]\n",
    "max_iters = [100, 1000]\n",
    "list(it.product(penalties, Cs, max_iters))\n",
    "LogReg_configs = [{'penalty': penalty, 'C': C, 'max_iter': max_iter} for penalty, C, max_iter in it.product(penalties, Cs, max_iters)]\n",
    "\n",
    "best_model, best_config = train_and_validate(X_train=X_train,\n",
    "                                             y_train=y_train,\n",
    "                                             X_validation=X_validation,\n",
    "                                             y_validation=y_validation,\n",
    "                                             model=model,\n",
    "                                             configs=LogReg_configs)\n",
    "print(best_config)"
   ],
   "metadata": {
    "collapsed": false,
    "pycharm": {
     "name": "#%%\n",
     "is_executing": true
    }
   }
  },
  {
   "cell_type": "code",
   "execution_count": null,
   "outputs": [],
   "source": [
    "print(classification_report(y_true=y_test, y_pred=best_model.predict(X_test)))"
   ],
   "metadata": {
    "collapsed": false,
    "pycharm": {
     "name": "#%%\n"
    }
   }
  },
  {
   "cell_type": "code",
   "execution_count": null,
   "outputs": [
    {
     "name": "stdout",
     "output_type": "stream",
     "text": [
      "0\n"
     ]
    },
    {
     "name": "stderr",
     "output_type": "stream",
     "text": [
      "C:\\Users\\LPavl\\anaconda3\\envs\\seminar2\\lib\\site-packages\\sklearn\\svm\\_base.py:284: ConvergenceWarning: Solver terminated early (max_iter=100).  Consider pre-processing your data with StandardScaler or MinMaxScaler.\n",
      "  warnings.warn(\n",
      "C:\\Users\\LPavl\\anaconda3\\envs\\seminar2\\lib\\site-packages\\sklearn\\svm\\_base.py:284: ConvergenceWarning: Solver terminated early (max_iter=100).  Consider pre-processing your data with StandardScaler or MinMaxScaler.\n",
      "  warnings.warn(\n",
      "C:\\Users\\LPavl\\anaconda3\\envs\\seminar2\\lib\\site-packages\\sklearn\\svm\\_base.py:284: ConvergenceWarning: Solver terminated early (max_iter=100).  Consider pre-processing your data with StandardScaler or MinMaxScaler.\n",
      "  warnings.warn(\n",
      "C:\\Users\\LPavl\\anaconda3\\envs\\seminar2\\lib\\site-packages\\sklearn\\svm\\_base.py:284: ConvergenceWarning: Solver terminated early (max_iter=100).  Consider pre-processing your data with StandardScaler or MinMaxScaler.\n",
      "  warnings.warn(\n",
      "C:\\Users\\LPavl\\anaconda3\\envs\\seminar2\\lib\\site-packages\\sklearn\\svm\\_base.py:284: ConvergenceWarning: Solver terminated early (max_iter=100).  Consider pre-processing your data with StandardScaler or MinMaxScaler.\n",
      "  warnings.warn(\n",
      "C:\\Users\\LPavl\\anaconda3\\envs\\seminar2\\lib\\site-packages\\sklearn\\svm\\_base.py:284: ConvergenceWarning: Solver terminated early (max_iter=100).  Consider pre-processing your data with StandardScaler or MinMaxScaler.\n",
      "  warnings.warn(\n",
      "C:\\Users\\LPavl\\anaconda3\\envs\\seminar2\\lib\\site-packages\\sklearn\\svm\\_base.py:284: ConvergenceWarning: Solver terminated early (max_iter=100).  Consider pre-processing your data with StandardScaler or MinMaxScaler.\n",
      "  warnings.warn(\n",
      "C:\\Users\\LPavl\\anaconda3\\envs\\seminar2\\lib\\site-packages\\sklearn\\svm\\_base.py:284: ConvergenceWarning: Solver terminated early (max_iter=100).  Consider pre-processing your data with StandardScaler or MinMaxScaler.\n",
      "  warnings.warn(\n",
      "C:\\Users\\LPavl\\anaconda3\\envs\\seminar2\\lib\\site-packages\\sklearn\\svm\\_base.py:284: ConvergenceWarning: Solver terminated early (max_iter=100).  Consider pre-processing your data with StandardScaler or MinMaxScaler.\n",
      "  warnings.warn(\n",
      "C:\\Users\\LPavl\\anaconda3\\envs\\seminar2\\lib\\site-packages\\sklearn\\svm\\_base.py:284: ConvergenceWarning: Solver terminated early (max_iter=100).  Consider pre-processing your data with StandardScaler or MinMaxScaler.\n",
      "  warnings.warn(\n",
      "C:\\Users\\LPavl\\anaconda3\\envs\\seminar2\\lib\\site-packages\\sklearn\\svm\\_base.py:284: ConvergenceWarning: Solver terminated early (max_iter=100).  Consider pre-processing your data with StandardScaler or MinMaxScaler.\n",
      "  warnings.warn(\n",
      "C:\\Users\\LPavl\\anaconda3\\envs\\seminar2\\lib\\site-packages\\sklearn\\svm\\_base.py:284: ConvergenceWarning: Solver terminated early (max_iter=100).  Consider pre-processing your data with StandardScaler or MinMaxScaler.\n",
      "  warnings.warn(\n",
      "C:\\Users\\LPavl\\anaconda3\\envs\\seminar2\\lib\\site-packages\\sklearn\\svm\\_base.py:284: ConvergenceWarning: Solver terminated early (max_iter=100).  Consider pre-processing your data with StandardScaler or MinMaxScaler.\n",
      "  warnings.warn(\n",
      "C:\\Users\\LPavl\\anaconda3\\envs\\seminar2\\lib\\site-packages\\sklearn\\svm\\_base.py:284: ConvergenceWarning: Solver terminated early (max_iter=100).  Consider pre-processing your data with StandardScaler or MinMaxScaler.\n",
      "  warnings.warn(\n",
      "C:\\Users\\LPavl\\anaconda3\\envs\\seminar2\\lib\\site-packages\\sklearn\\svm\\_base.py:284: ConvergenceWarning: Solver terminated early (max_iter=100).  Consider pre-processing your data with StandardScaler or MinMaxScaler.\n",
      "  warnings.warn(\n",
      "C:\\Users\\LPavl\\anaconda3\\envs\\seminar2\\lib\\site-packages\\sklearn\\svm\\_base.py:284: ConvergenceWarning: Solver terminated early (max_iter=100).  Consider pre-processing your data with StandardScaler or MinMaxScaler.\n",
      "  warnings.warn(\n",
      "C:\\Users\\LPavl\\anaconda3\\envs\\seminar2\\lib\\site-packages\\sklearn\\svm\\_base.py:284: ConvergenceWarning: Solver terminated early (max_iter=100).  Consider pre-processing your data with StandardScaler or MinMaxScaler.\n",
      "  warnings.warn(\n",
      "C:\\Users\\LPavl\\anaconda3\\envs\\seminar2\\lib\\site-packages\\sklearn\\svm\\_base.py:284: ConvergenceWarning: Solver terminated early (max_iter=100).  Consider pre-processing your data with StandardScaler or MinMaxScaler.\n",
      "  warnings.warn(\n",
      "C:\\Users\\LPavl\\anaconda3\\envs\\seminar2\\lib\\site-packages\\sklearn\\svm\\_base.py:284: ConvergenceWarning: Solver terminated early (max_iter=100).  Consider pre-processing your data with StandardScaler or MinMaxScaler.\n",
      "  warnings.warn(\n",
      "C:\\Users\\LPavl\\anaconda3\\envs\\seminar2\\lib\\site-packages\\sklearn\\svm\\_base.py:284: ConvergenceWarning: Solver terminated early (max_iter=100).  Consider pre-processing your data with StandardScaler or MinMaxScaler.\n",
      "  warnings.warn(\n",
      "C:\\Users\\LPavl\\anaconda3\\envs\\seminar2\\lib\\site-packages\\sklearn\\svm\\_base.py:284: ConvergenceWarning: Solver terminated early (max_iter=100).  Consider pre-processing your data with StandardScaler or MinMaxScaler.\n",
      "  warnings.warn(\n",
      "C:\\Users\\LPavl\\anaconda3\\envs\\seminar2\\lib\\site-packages\\sklearn\\metrics\\_classification.py:1318: UndefinedMetricWarning: Precision is ill-defined and being set to 0.0 in samples with no predicted labels. Use `zero_division` parameter to control this behavior.\n",
      "  _warn_prf(average, modifier, msg_start, len(result))\n"
     ]
    },
    {
     "name": "stdout",
     "output_type": "stream",
     "text": [
      "1\n"
     ]
    },
    {
     "name": "stderr",
     "output_type": "stream",
     "text": [
      "C:\\Users\\LPavl\\anaconda3\\envs\\seminar2\\lib\\site-packages\\sklearn\\svm\\_base.py:284: ConvergenceWarning: Solver terminated early (max_iter=1000).  Consider pre-processing your data with StandardScaler or MinMaxScaler.\n",
      "  warnings.warn(\n",
      "C:\\Users\\LPavl\\anaconda3\\envs\\seminar2\\lib\\site-packages\\sklearn\\svm\\_base.py:284: ConvergenceWarning: Solver terminated early (max_iter=1000).  Consider pre-processing your data with StandardScaler or MinMaxScaler.\n",
      "  warnings.warn(\n",
      "C:\\Users\\LPavl\\anaconda3\\envs\\seminar2\\lib\\site-packages\\sklearn\\svm\\_base.py:284: ConvergenceWarning: Solver terminated early (max_iter=1000).  Consider pre-processing your data with StandardScaler or MinMaxScaler.\n",
      "  warnings.warn(\n",
      "C:\\Users\\LPavl\\anaconda3\\envs\\seminar2\\lib\\site-packages\\sklearn\\svm\\_base.py:284: ConvergenceWarning: Solver terminated early (max_iter=1000).  Consider pre-processing your data with StandardScaler or MinMaxScaler.\n",
      "  warnings.warn(\n",
      "C:\\Users\\LPavl\\anaconda3\\envs\\seminar2\\lib\\site-packages\\sklearn\\svm\\_base.py:284: ConvergenceWarning: Solver terminated early (max_iter=1000).  Consider pre-processing your data with StandardScaler or MinMaxScaler.\n",
      "  warnings.warn(\n",
      "C:\\Users\\LPavl\\anaconda3\\envs\\seminar2\\lib\\site-packages\\sklearn\\svm\\_base.py:284: ConvergenceWarning: Solver terminated early (max_iter=1000).  Consider pre-processing your data with StandardScaler or MinMaxScaler.\n",
      "  warnings.warn(\n",
      "C:\\Users\\LPavl\\anaconda3\\envs\\seminar2\\lib\\site-packages\\sklearn\\svm\\_base.py:284: ConvergenceWarning: Solver terminated early (max_iter=1000).  Consider pre-processing your data with StandardScaler or MinMaxScaler.\n",
      "  warnings.warn(\n"
     ]
    }
   ],
   "source": [
    "model = SVC\n",
    "Cs = [1e-3, 1e-2, 1e-1, 1.]\n",
    "kernels = ['poly', 'rbf', 'sigmoid']\n",
    "degrees = range(1, 4)\n",
    "max_iters = [100, 1000]\n",
    "list(it.product(penalties, Cs, max_iters))\n",
    "SVM_configs = [{'C': C,\n",
    "                'kernel': kernel,\n",
    "                'degree': degree,\n",
    "                'max_iter': max_iter} for C, kernel, degree, max_iter in it.product(Cs, kernels, degrees, max_iters)]\n",
    "\n",
    "best_model, best_config = train_and_validate(X_train=X_train,\n",
    "                                             y_train=y_train,\n",
    "                                             X_validation=X_validation,\n",
    "                                             y_validation=y_validation,\n",
    "                                             model=model,\n",
    "                                             configs=SVM_configs)\n",
    "print(best_config)"
   ],
   "metadata": {
    "collapsed": false,
    "pycharm": {
     "name": "#%%\n",
     "is_executing": true
    }
   }
  },
  {
   "cell_type": "code",
   "execution_count": null,
   "outputs": [],
   "source": [
    "print(classification_report(y_true=y_test, y_pred=best_model.predict(X_test)))"
   ],
   "metadata": {
    "collapsed": false,
    "pycharm": {
     "name": "#%%\n",
     "is_executing": true
    }
   }
  }
 ],
 "metadata": {
  "kernelspec": {
   "display_name": "Python 3",
   "language": "python",
   "name": "python3"
  },
  "language_info": {
   "codemirror_mode": {
    "name": "ipython",
    "version": 2
   },
   "file_extension": ".py",
   "mimetype": "text/x-python",
   "name": "python",
   "nbconvert_exporter": "python",
   "pygments_lexer": "ipython2",
   "version": "2.7.6"
  }
 },
 "nbformat": 4,
 "nbformat_minor": 0
}
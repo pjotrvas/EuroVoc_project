{
 "cells": [
  {
   "cell_type": "code",
   "execution_count": 1,
   "metadata": {},
   "outputs": [],
   "source": [
    "from MultiEurlexDataset import MultiEurlexDataset\n",
    "from MultiEvalDataset import MultiEvalDataset\n",
    "from transformers import XLMRobertaForSequenceClassification, XLMRobertaTokenizerFast, TrainingArguments, Trainer, DataCollatorWithPadding, TextClassificationPipeline, EarlyStoppingCallback\n",
    "from torch.utils.data import RandomSampler\n",
    "from sklearn.metrics import classification_report\n",
    "from sklearn.metrics import f1_score\n",
    "from sklearn.metrics import confusion_matrix\n",
    "import numpy as np\n",
    "import torch.nn as nn"
   ]
  },
  {
   "cell_type": "code",
   "execution_count": 2,
   "metadata": {},
   "outputs": [],
   "source": [
    "import torch\n",
    "import os\n",
    "os.environ[\"CUDA_DEVICE_ORDER\"]=\"PCI_BUS_ID\"   # see issue #152\n",
    "os.environ[\"CUDA_VISIBLE_DEVICES\"]=\"0\""
   ]
  },
  {
   "cell_type": "code",
   "execution_count": 3,
   "metadata": {},
   "outputs": [
    {
     "name": "stderr",
     "output_type": "stream",
     "text": [
      "Reusing dataset multi_eurlex (/home/mrajnovic/.cache/huggingface/datasets/multi_eurlex/all_languages/1.0.0/8ec8b79877a517369a143ead6679d1788d13e51cf641ed29772f4449e8364fb6)\n"
     ]
    },
    {
     "data": {
      "application/vnd.jupyter.widget-view+json": {
       "model_id": "23b69b3787c14d4ba69f40b3f980b584",
       "version_major": 2,
       "version_minor": 0
      },
      "text/plain": [
       "  0%|          | 0/3 [00:00<?, ?it/s]"
      ]
     },
     "metadata": {},
     "output_type": "display_data"
    },
    {
     "name": "stdout",
     "output_type": "stream",
     "text": [
      "0.0% of dataset loaded\n",
      "10.0% of dataset loaded\n",
      "20.0% of dataset loaded\n",
      "30.0% of dataset loaded\n",
      "40.0% of dataset loaded\n",
      "50.0% of dataset loaded\n",
      "60.0% of dataset loaded\n",
      "70.0% of dataset loaded\n",
      "80.0% of dataset loaded\n",
      "90.0% of dataset loaded\n",
      "Loading dataset done\n"
     ]
    },
    {
     "name": "stderr",
     "output_type": "stream",
     "text": [
      "Reusing dataset multi_eurlex (/home/mrajnovic/.cache/huggingface/datasets/multi_eurlex/all_languages/1.0.0/8ec8b79877a517369a143ead6679d1788d13e51cf641ed29772f4449e8364fb6)\n"
     ]
    },
    {
     "data": {
      "application/vnd.jupyter.widget-view+json": {
       "model_id": "659fae34765f4fdcbb88ef19e9627fa9",
       "version_major": 2,
       "version_minor": 0
      },
      "text/plain": [
       "  0%|          | 0/3 [00:00<?, ?it/s]"
      ]
     },
     "metadata": {},
     "output_type": "display_data"
    },
    {
     "name": "stdout",
     "output_type": "stream",
     "text": [
      "0.0000% of dataset loaded\n",
      "10.0000% of dataset loaded\n",
      "20.0000% of dataset loaded\n",
      "30.0000% of dataset loaded\n",
      "40.0000% of dataset loaded\n",
      "50.0000% of dataset loaded\n",
      "60.0000% of dataset loaded\n",
      "70.0000% of dataset loaded\n",
      "80.0000% of dataset loaded\n",
      "90.0000% of dataset loaded\n"
     ]
    }
   ],
   "source": [
    "device='cuda'\n",
    "tokenizer = XLMRobertaTokenizerFast.from_pretrained('xlm-roberta-base', padding=True, trunaction=True)\n",
    "test_dataset = MultiEurlexDataset(split='test',languages = ['hr'], tokenizer=tokenizer)\n",
    "test_dataset_readable = MultiEvalDataset(split='test',languages = ['hr'])"
   ]
  },
  {
   "cell_type": "code",
   "execution_count": 4,
   "metadata": {},
   "outputs": [],
   "source": [
    "ticks = [\"social questions\",\n",
    "         \"industry\",\n",
    "         \"finance\",\n",
    "         \"trade\",\n",
    "         \"business and competition\",\n",
    "         \"international relations\",\n",
    "         \"agriculture, forestry and fisheries\",\n",
    "         \"production, technology and research\",\n",
    "         \"transport\",\n",
    "         \"employment and working conditions\",\n",
    "         \"politics\",\n",
    "         \"law\",\n",
    "         \"education and communications\",\n",
    "         \"international organisations\",\n",
    "         \"energy\",\n",
    "         \"EUROPEAN UNION\",\n",
    "         \"science\",\n",
    "         \"agri-foodstuffs\",\n",
    "         \"geography\",\n",
    "         \"economics\",\n",
    "         \"environment\"]"
   ]
  },
  {
   "cell_type": "code",
   "execution_count": 5,
   "metadata": {},
   "outputs": [],
   "source": [
    "metric = f1_score\n",
    "\n",
    "def compute_metrics(eval_pred):\n",
    "    label_pred, label_true = eval_pred\n",
    "    sigmoid = nn.Sigmoid()\n",
    "    label_pred=sigmoid(torch.tensor(label_pred)).numpy()\n",
    "    label_pred[label_pred < 0.5] = 0\n",
    "    label_pred[label_pred >= 0.5] = 1\n",
    "    result={}\n",
    "    result['f1'] = metric(label_true,label_pred, average='samples')\n",
    "    result['classification_report'] = classification_report(label_true,label_pred)\n",
    "    result['confusion_matrix'] = confusion_matrix(label_true, label_pred)\n",
    "    return result"
   ]
  },
  {
   "cell_type": "code",
   "execution_count": 6,
   "metadata": {},
   "outputs": [],
   "source": [
    "model = XLMRobertaForSequenceClassification.from_pretrained('/home/mrajnovic/EuroVoc_project/results/slavic_croatian/checkpoint-72795', num_labels=21, problem_type=\"multi_label_classification\", )"
   ]
  },
  {
   "cell_type": "code",
   "execution_count": 7,
   "metadata": {},
   "outputs": [
    {
     "name": "stdout",
     "output_type": "stream",
     "text": [
      "32013D0131\n",
      "L 076/1\n",
      "SLUŽBENI LIST EUROPSKE UNIJE\n",
      "ODLUKA KOMISIJE\n",
      "od 4. ožujka 2013.\n",
      "o donošenju priručnika za korisnike kojim se utvrđuju koraci koje je potrebno poduzeti za sudjelovanje u sustavu EMAS u skladu s Uredbom (EZ) br. 1221/2009 Europskog parlamenta i Vijeća o dobrovoljnom sudjelovanju organizacija u sustavu upravljanja okolišem i neovisnog ocjenjivanja Zajednice (EMAS)\n",
      "(priopćena pod brojem dokumenta C(2013) 1114)\n",
      "(Tekst značajan za EGP)\n",
      "(2013/131/EU)\n",
      "EUROPSKA KOMISIJA,\n",
      "uzimajući u obzir Ugovor o funkcioniranju Europske unije,\n",
      "uzimajući u obzir Uredbu (EZ) br. 1221/2009 Europskog parlamenta i Vijeća od 25. studenoga 2009. o dobrovoljnom sudjelovanju organizacija u sustavu upravljanja okolišem i neovisnog ocjenjivanja Zajednice (EMAS) te stavljanju izvan snage Uredbe (EZ) br. 761/2001 i odluka Komisije 2001/681/EZ i 2006/193/EZ (1), a posebno njezin članak 46. stavak 5.,\n",
      "budući da:\n",
      "Poduzeća i druge organizacije trebaju dobiti dodatne informacije i smjernice o koracima koje je potrebno poduzeti za sudjelovanje u sustavu EMAS,\n",
      "DONIJELA JE OVU ODLUKU:\n",
      "Članak 1.\n",
      "Komisija donosi ovaj priručnik za korisnike kako bi pružila dodatne informacije za pojašnjenje koraka koje je potrebno poduzeti za sudjelovanje u sustavu EMAS.\n",
      "Članak 2.\n",
      "Ova je Odluka upućena državama članicama.\n",
      "Sastavljeno u Bruxellesu 4. ožujka 2013.\n",
      "\n",
      "Labels:\n",
      "education and communications\n",
      "business and competition\n",
      "environment\n"
     ]
    }
   ],
   "source": [
    "print(test_dataset_readable[17][0])\n",
    "print()\n",
    "print('Labels:')\n",
    "for tick in test_dataset_readable[17][1]:\n",
    "    print(ticks[tick])"
   ]
  },
  {
   "cell_type": "code",
   "execution_count": 17,
   "metadata": {},
   "outputs": [],
   "source": [
    "sigmoid = nn.Sigmoid()\n",
    "logits = sigmoid(model(input_ids=test_dataset[17]['input_ids'].unsqueeze(0), attention_mask=test_dataset[17]['attention_mask'].unsqueeze(0))['logits'])"
   ]
  },
  {
   "cell_type": "code",
   "execution_count": 33,
   "metadata": {},
   "outputs": [],
   "source": [
    "logits[logits < 0.5] = 0\n",
    "logits[logits > 0.5] = 1\n",
    "guesses = np.where(logits[0].detach().cpu().numpy() == 1)[0].tolist()"
   ]
  },
  {
   "cell_type": "code",
   "execution_count": 34,
   "metadata": {},
   "outputs": [
    {
     "data": {
      "text/plain": [
       "[12, 20]"
      ]
     },
     "execution_count": 34,
     "metadata": {},
     "output_type": "execute_result"
    }
   ],
   "source": [
    "guesses"
   ]
  },
  {
   "cell_type": "code",
   "execution_count": 35,
   "metadata": {},
   "outputs": [
    {
     "name": "stdout",
     "output_type": "stream",
     "text": [
      "Labels:\n",
      "education and communications\n",
      "environment\n"
     ]
    }
   ],
   "source": [
    "print('Labels:')\n",
    "for tick in guesses:\n",
    "    print(ticks[tick])"
   ]
  }
 ],
 "metadata": {
  "interpreter": {
   "hash": "ab60847f016ca05497719c81611e5a3da76ef1597f0d5aec9b876a6fbb687fc2"
  },
  "kernelspec": {
   "display_name": "Python 3.8.13 ('tar': conda)",
   "language": "python",
   "name": "python3"
  },
  "language_info": {
   "codemirror_mode": {
    "name": "ipython",
    "version": 3
   },
   "file_extension": ".py",
   "mimetype": "text/x-python",
   "name": "python",
   "nbconvert_exporter": "python",
   "pygments_lexer": "ipython3",
   "version": "3.8.13"
  },
  "orig_nbformat": 4
 },
 "nbformat": 4,
 "nbformat_minor": 2
}
